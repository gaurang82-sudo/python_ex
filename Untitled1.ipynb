{
 "cells": [
  {
   "cell_type": "code",
   "execution_count": 4,
   "metadata": {},
   "outputs": [],
   "source": [
    "with open('paris.txt') as f:\n",
    "    lines = f.read().splitlines()\n",
    "    N, M, T, C, S = map(int, lines[0].split())\n",
    "   paris_coords = []\n",
    "    for i in range(1, len(lines)):\n",
    "        paris_coords.append(list(map(float, lines[i].split())))  # Read coords\n",
    "    paris = {node: {} for node in range(N)}\n",
    "    for i in range(N + 1, N + M + 1):\n",
    "        start, end, nb_directions, duration, length = map(int, lines[i].split())\n",
    "        paris[start][end] = length\n",
    "        if nb_directions == 2:\n",
    "            paris[end][start] = length\n"
   ]
  },
  {
   "cell_type": "code",
   "execution_count": 6,
   "metadata": {},
   "outputs": [
    {
     "data": {
      "text/plain": [
       "int"
      ]
     },
     "execution_count": 6,
     "metadata": {},
     "output_type": "execute_result"
    }
   ],
   "source": [
    "type(N)"
   ]
  },
  {
   "cell_type": "code",
   "execution_count": null,
   "metadata": {},
   "outputs": [],
   "source": []
  }
 ],
 "metadata": {
  "kernelspec": {
   "display_name": "Python 3",
   "language": "python",
   "name": "python3"
  },
  "language_info": {
   "codemirror_mode": {
    "name": "ipython",
    "version": 3
   },
   "file_extension": ".py",
   "mimetype": "text/x-python",
   "name": "python",
   "nbconvert_exporter": "python",
   "pygments_lexer": "ipython3",
   "version": "3.6.9"
  }
 },
 "nbformat": 4,
 "nbformat_minor": 4
}
