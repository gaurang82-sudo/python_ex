{
 "cells": [
  {
   "cell_type": "code",
   "execution_count": 1,
   "metadata": {},
   "outputs": [],
   "source": [
    "import numpy as np"
   ]
  },
  {
   "cell_type": "code",
   "execution_count": 2,
   "metadata": {},
   "outputs": [],
   "source": [
    "import csv"
   ]
  },
  {
   "cell_type": "code",
   "execution_count": 3,
   "metadata": {},
   "outputs": [],
   "source": [
    "data=list(csv.reader(open('ex1data1.csv','r')))"
   ]
  },
  {
   "cell_type": "code",
   "execution_count": 4,
   "metadata": {},
   "outputs": [],
   "source": [
    "data1=np.array(data,dtype='float')"
   ]
  },
  {
   "cell_type": "code",
   "execution_count": 5,
   "metadata": {},
   "outputs": [
    {
     "data": {
      "text/plain": [
       "array([[ 6.1101 , 17.592  ],\n",
       "       [ 5.5277 ,  9.1302 ],\n",
       "       [ 8.5186 , 13.662  ],\n",
       "       [ 7.0032 , 11.854  ],\n",
       "       [ 5.8598 ,  6.8233 ],\n",
       "       [ 8.3829 , 11.886  ],\n",
       "       [ 7.4764 ,  4.3483 ],\n",
       "       [ 8.5781 , 12.     ],\n",
       "       [ 6.4862 ,  6.5987 ],\n",
       "       [ 5.0546 ,  3.8166 ],\n",
       "       [ 5.7107 ,  3.2522 ],\n",
       "       [14.164  , 15.505  ],\n",
       "       [ 5.734  ,  3.1551 ],\n",
       "       [ 8.4084 ,  7.2258 ],\n",
       "       [ 5.6407 ,  0.71618],\n",
       "       [ 5.3794 ,  3.5129 ],\n",
       "       [ 6.3654 ,  5.3048 ],\n",
       "       [ 5.1301 ,  0.56077],\n",
       "       [ 6.4296 ,  3.6518 ],\n",
       "       [ 7.0708 ,  5.3893 ],\n",
       "       [ 6.1891 ,  3.1386 ],\n",
       "       [20.27   , 21.767  ],\n",
       "       [ 5.4901 ,  4.263  ],\n",
       "       [ 6.3261 ,  5.1875 ],\n",
       "       [ 5.5649 ,  3.0825 ],\n",
       "       [18.945  , 22.638  ],\n",
       "       [12.828  , 13.501  ],\n",
       "       [10.957  ,  7.0467 ],\n",
       "       [13.176  , 14.692  ],\n",
       "       [22.203  , 24.147  ],\n",
       "       [ 5.2524 , -1.22   ],\n",
       "       [ 6.5894 ,  5.9966 ],\n",
       "       [ 9.2482 , 12.134  ],\n",
       "       [ 5.8918 ,  1.8495 ],\n",
       "       [ 8.2111 ,  6.5426 ],\n",
       "       [ 7.9334 ,  4.5623 ],\n",
       "       [ 8.0959 ,  4.1164 ],\n",
       "       [ 5.6063 ,  3.3928 ],\n",
       "       [12.836  , 10.117  ],\n",
       "       [ 6.3534 ,  5.4974 ],\n",
       "       [ 5.4069 ,  0.55657],\n",
       "       [ 6.8825 ,  3.9115 ],\n",
       "       [11.708  ,  5.3854 ],\n",
       "       [ 5.7737 ,  2.4406 ],\n",
       "       [ 7.8247 ,  6.7318 ],\n",
       "       [ 7.0931 ,  1.0463 ],\n",
       "       [ 5.0702 ,  5.1337 ],\n",
       "       [ 5.8014 ,  1.844  ],\n",
       "       [11.7    ,  8.0043 ],\n",
       "       [ 5.5416 ,  1.0179 ],\n",
       "       [ 7.5402 ,  6.7504 ],\n",
       "       [ 5.3077 ,  1.8396 ],\n",
       "       [ 7.4239 ,  4.2885 ],\n",
       "       [ 7.6031 ,  4.9981 ],\n",
       "       [ 6.3328 ,  1.4233 ],\n",
       "       [ 6.3589 , -1.4211 ],\n",
       "       [ 6.2742 ,  2.4756 ],\n",
       "       [ 5.6397 ,  4.6042 ],\n",
       "       [ 9.3102 ,  3.9624 ],\n",
       "       [ 9.4536 ,  5.4141 ],\n",
       "       [ 8.8254 ,  5.1694 ],\n",
       "       [ 5.1793 , -0.74279],\n",
       "       [21.279  , 17.929  ],\n",
       "       [14.908  , 12.054  ],\n",
       "       [18.959  , 17.054  ],\n",
       "       [ 7.2182 ,  4.8852 ],\n",
       "       [ 8.2951 ,  5.7442 ],\n",
       "       [10.236  ,  7.7754 ],\n",
       "       [ 5.4994 ,  1.0173 ],\n",
       "       [20.341  , 20.992  ],\n",
       "       [10.136  ,  6.6799 ],\n",
       "       [ 7.3345 ,  4.0259 ],\n",
       "       [ 6.0062 ,  1.2784 ],\n",
       "       [ 7.2259 ,  3.3411 ],\n",
       "       [ 5.0269 , -2.6807 ],\n",
       "       [ 6.5479 ,  0.29678],\n",
       "       [ 7.5386 ,  3.8845 ],\n",
       "       [ 5.0365 ,  5.7014 ],\n",
       "       [10.274  ,  6.7526 ],\n",
       "       [ 5.1077 ,  2.0576 ],\n",
       "       [ 5.7292 ,  0.47953],\n",
       "       [ 5.1884 ,  0.20421],\n",
       "       [ 6.3557 ,  0.67861],\n",
       "       [ 9.7687 ,  7.5435 ],\n",
       "       [ 6.5159 ,  5.3436 ],\n",
       "       [ 8.5172 ,  4.2415 ],\n",
       "       [ 9.1802 ,  6.7981 ],\n",
       "       [ 6.002  ,  0.92695],\n",
       "       [ 5.5204 ,  0.152  ],\n",
       "       [ 5.0594 ,  2.8214 ],\n",
       "       [ 5.7077 ,  1.8451 ],\n",
       "       [ 7.6366 ,  4.2959 ],\n",
       "       [ 5.8707 ,  7.2029 ],\n",
       "       [ 5.3054 ,  1.9869 ],\n",
       "       [ 8.2934 ,  0.14454],\n",
       "       [13.394  ,  9.0551 ],\n",
       "       [ 5.4369 ,  0.61705]])"
      ]
     },
     "execution_count": 5,
     "metadata": {},
     "output_type": "execute_result"
    }
   ],
   "source": [
    "data1"
   ]
  },
  {
   "cell_type": "code",
   "execution_count": 6,
   "metadata": {},
   "outputs": [],
   "source": [
    "import matplotlib.pyplot as plt"
   ]
  },
  {
   "cell_type": "code",
   "execution_count": 7,
   "metadata": {},
   "outputs": [
    {
     "data": {
      "text/plain": [
       "8.5186"
      ]
     },
     "execution_count": 7,
     "metadata": {},
     "output_type": "execute_result"
    }
   ],
   "source": [
    "data1[2][0]"
   ]
  },
  {
   "cell_type": "code",
   "execution_count": 8,
   "metadata": {},
   "outputs": [],
   "source": [
    "x=np.zeros(len(data1))\n",
    "y=np.zeros(len(data1))\n",
    "for i in range(len(data1)):\n",
    "    x[i]=data[i][0]\n",
    "    y[i]=data[i][1]\n",
    "\n"
   ]
  },
  {
   "cell_type": "code",
   "execution_count": 9,
   "metadata": {},
   "outputs": [
    {
     "data": {
      "text/plain": [
       "<matplotlib.collections.PathCollection at 0xad5ccd2c>"
      ]
     },
     "execution_count": 9,
     "metadata": {},
     "output_type": "execute_result"
    },
    {
     "data": {
      "image/png": "[encoded data removed]",
      "text/plain": [
       "<Figure size 432x288 with 1 Axes>"
      ]
     },
     "metadata": {
      "needs_background": "light"
     },
     "output_type": "display_data"
    }
   ],
   "source": [
    "plt.scatter(x, y, label= \"stars\") "
   ]
  },
  {
   "cell_type": "code",
   "execution_count": 10,
   "metadata": {},
   "outputs": [
    {
     "data": {
      "text/plain": [
       "array([0., 0.])"
      ]
     },
     "execution_count": 10,
     "metadata": {},
     "output_type": "execute_result"
    }
   ],
   "source": [
    "theta=np.zeros(2)\n",
    "theta"
   ]
  },
  {
   "cell_type": "code",
   "execution_count": 11,
   "metadata": {},
   "outputs": [],
   "source": [
    "h=np.zeros(len(y)+1)\n"
   ]
  },
  {
   "cell_type": "code",
   "execution_count": 12,
   "metadata": {
    "scrolled": true
   },
   "outputs": [
    {
     "name": "stdout",
     "output_type": "stream",
     "text": [
      "[3.09478464e+02 8.33605520e+01 1.86650244e+02 1.40517316e+02\n",
      " 4.65574229e+01 1.41276996e+02 1.89077129e+01 1.44000000e+02\n",
      " 4.35428417e+01 1.45664356e+01 1.05768048e+01 2.40405025e+02\n",
      " 9.95465601e+00 5.22121856e+01 5.12913792e-01 1.23404664e+01\n",
      " 2.81409030e+01 3.14462993e-01 1.33356432e+01 2.90445545e+01\n",
      " 9.85080996e+00 4.73802289e+02 1.81731690e+01 2.69101562e+01\n",
      " 9.50180625e+00 5.12479044e+02 1.82277001e+02 4.96559809e+01\n",
      " 2.15854864e+02 5.83077609e+02 1.48840000e+00 3.59592116e+01\n",
      " 1.47233956e+02 3.42065025e+00 4.28056148e+01 2.08145813e+01\n",
      " 1.69447490e+01 1.15110918e+01 1.02353689e+02 3.02214068e+01\n",
      " 3.09770165e-01 1.52998323e+01 2.90025332e+01 5.95652836e+00\n",
      " 4.53171312e+01 1.09474369e+00 2.63548757e+01 3.40033600e+00\n",
      " 6.40688185e+01 1.03612041e+00 4.55679002e+01 3.38412816e+00\n",
      " 1.83912322e+01 2.49810036e+01 2.02578289e+00 2.01952521e+00\n",
      " 6.12859536e+00 2.11986576e+01 1.57006138e+01 2.93124788e+01\n",
      " 2.67226964e+01 5.51736984e-01 3.21449041e+02 1.45298916e+02\n",
      " 2.90838916e+02 2.38651790e+01 3.29958336e+01 6.04568452e+01\n",
      " 1.03489929e+00 4.40664064e+02 4.46210640e+01 1.62078708e+01\n",
      " 1.63430656e+00 1.11629492e+01 7.18615249e+00 8.80783684e-02\n",
      " 1.50893403e+01 3.25059620e+01 4.55976068e+01 4.23371776e+00\n",
      " 2.29949021e-01 4.17017241e-02 4.60511532e-01 5.69043923e+01\n",
      " 2.85540610e+01 1.79903223e+01 4.62141636e+01 8.59236303e-01\n",
      " 2.31040000e-02 7.96029796e+00 3.40439401e+00 1.84547568e+01\n",
      " 5.18817684e+01 3.94777161e+00 2.08918116e-02 8.19948360e+01\n",
      " 3.80750702e-01 0.00000000e+00]\n"
     ]
    }
   ],
   "source": [
    "for i in range(0,len(y)):\n",
    "    h[i]=((theta[0]+(theta[1]*x[i]))-y[i])**2\n",
    "print(h)"
   ]
  },
  {
   "cell_type": "code",
   "execution_count": 19,
   "metadata": {},
   "outputs": [
    {
     "name": "stdout",
     "output_type": "stream",
     "text": [
      "98\n"
     ]
    }
   ],
   "source": [
    "import pandas as pd\n",
    "print(len(h))"
   ]
  },
  {
   "cell_type": "code",
   "execution_count": 20,
   "metadata": {},
   "outputs": [],
   "source": [
    "y=[range(98)]"
   ]
  },
  {
   "cell_type": "code",
   "execution_count": 23,
   "metadata": {},
   "outputs": [
    {
     "data": {
      "text/plain": [
       "<matplotlib.collections.PathCollection at 0xaabf48cc>"
      ]
     },
     "execution_count": 23,
     "metadata": {},
     "output_type": "execute_result"
    },
    {
     "data": {
      "image/png": "[encoded data removed]",
      "text/plain": [
       "<Figure size 432x288 with 1 Axes>"
      ]
     },
     "metadata": {
      "needs_background": "light"
     },
     "output_type": "display_data"
    }
   ],
   "source": [
    "plt.scatter(y,h, label= \"stars\") "
   ]
  },
  {
   "cell_type": "code",
   "execution_count": 29,
   "metadata": {},
   "outputs": [],
   "source": [
    "data2=pd.read_csv('ex1data1.csv')"
   ]
  },
  {
   "cell_type": "code",
   "execution_count": 30,
   "metadata": {},
   "outputs": [
    {
     "data": {
      "text/plain": [
       "pandas.core.frame.DataFrame"
      ]
     },
     "execution_count": 30,
     "metadata": {},
     "output_type": "execute_result"
    }
   ],
   "source": [
    "type(data2)"
   ]
  },
  {
   "cell_type": "code",
   "execution_count": 35,
   "metadata": {},
   "outputs": [
    {
     "data": {
      "text/html": [
       "<div>\n",
       "<style scoped>\n",
       "    .dataframe tbody tr th:only-of-type {\n",
       "        vertical-align: middle;\n",
       "    }\n",
       "\n",
       "    .dataframe tbody tr th {\n",
       "        vertical-align: top;\n",
       "    }\n",
       "\n",
       "    .dataframe thead th {\n",
       "        text-align: right;\n",
       "    }\n",
       "</style>\n",
       "<table border=\"1\" class=\"dataframe\">\n",
       "  <thead>\n",
       "    <tr style=\"text-align: right;\">\n",
       "      <th></th>\n",
       "      <th>6.1101</th>\n",
       "      <th>17.592</th>\n",
       "    </tr>\n",
       "  </thead>\n",
       "  <tbody>\n",
       "  </tbody>\n",
       "</table>\n",
       "</div>"
      ],
      "text/plain": [
       "Empty DataFrame\n",
       "Columns: [6.1101, 17.592]\n",
       "Index: []"
      ]
     },
     "execution_count": 35,
     "metadata": {},
     "output_type": "execute_result"
    }
   ],
   "source": [
    "data2[1:1]"
   ]
  },
  {
   "cell_type": "code",
   "execution_count": null,
   "metadata": {},
   "outputs": [],
   "source": []
  }
 ],
 "metadata": {
  "kernelspec": {
   "display_name": "Python 3",
   "language": "python",
   "name": "python3"
  },
  "language_info": {
   "codemirror_mode": {
    "name": "ipython",
    "version": 3
   },
   "file_extension": ".py",
   "mimetype": "text/x-python",
   "name": "python",
   "nbconvert_exporter": "python",
   "pygments_lexer": "ipython3",
   "version": "3.6.9"
  }
 },
 "nbformat": 4,
 "nbformat_minor": 4
}
